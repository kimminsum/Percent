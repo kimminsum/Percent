{
 "cells": [
  {
   "cell_type": "code",
   "execution_count": 11,
   "metadata": {},
   "outputs": [],
   "source": [
    "import FinanceDataReader as fdr\n",
    "import matplotlib.pyplot as plt # 1차월 배열간 코사인 유사도 계산 \n",
    "from scipy.spatial.distance import cosine\n",
    "\n"
   ]
  },
  {
   "cell_type": "code",
   "execution_count": 12,
   "metadata": {},
   "outputs": [
    {
     "name": "stderr",
     "output_type": "stream",
     "text": [
      "/home/kar7mp5/.local/lib/python3.8/site-packages/FinanceDataReader/data.py:47: FutureWarning: The frame.append method is deprecated and will be removed from pandas in a future version. Use pandas.concat instead.\n",
      "  df = df.append(more)\n",
      "/home/kar7mp5/.local/lib/python3.8/site-packages/FinanceDataReader/data.py:47: FutureWarning: The frame.append method is deprecated and will be removed from pandas in a future version. Use pandas.concat instead.\n",
      "  df = df.append(more)\n"
     ]
    },
    {
     "data": {
      "text/html": [
       "<div>\n",
       "<style scoped>\n",
       "    .dataframe tbody tr th:only-of-type {\n",
       "        vertical-align: middle;\n",
       "    }\n",
       "\n",
       "    .dataframe tbody tr th {\n",
       "        vertical-align: top;\n",
       "    }\n",
       "\n",
       "    .dataframe thead th {\n",
       "        text-align: right;\n",
       "    }\n",
       "</style>\n",
       "<table border=\"1\" class=\"dataframe\">\n",
       "  <thead>\n",
       "    <tr style=\"text-align: right;\">\n",
       "      <th></th>\n",
       "      <th>Close</th>\n",
       "      <th>Open</th>\n",
       "      <th>High</th>\n",
       "      <th>Low</th>\n",
       "      <th>Volume</th>\n",
       "      <th>Change</th>\n",
       "    </tr>\n",
       "    <tr>\n",
       "      <th>Date</th>\n",
       "      <th></th>\n",
       "      <th></th>\n",
       "      <th></th>\n",
       "      <th></th>\n",
       "      <th></th>\n",
       "      <th></th>\n",
       "    </tr>\n",
       "  </thead>\n",
       "  <tbody>\n",
       "    <tr>\n",
       "      <th>1981-05-01</th>\n",
       "      <td>123.60</td>\n",
       "      <td>123.60</td>\n",
       "      <td>123.60</td>\n",
       "      <td>123.60</td>\n",
       "      <td>3330000.0</td>\n",
       "      <td>0.0098</td>\n",
       "    </tr>\n",
       "    <tr>\n",
       "      <th>1981-05-02</th>\n",
       "      <td>123.50</td>\n",
       "      <td>123.50</td>\n",
       "      <td>123.50</td>\n",
       "      <td>123.50</td>\n",
       "      <td>2040000.0</td>\n",
       "      <td>-0.0008</td>\n",
       "    </tr>\n",
       "    <tr>\n",
       "      <th>1981-05-04</th>\n",
       "      <td>120.60</td>\n",
       "      <td>120.60</td>\n",
       "      <td>120.60</td>\n",
       "      <td>120.60</td>\n",
       "      <td>1930000.0</td>\n",
       "      <td>-0.0235</td>\n",
       "    </tr>\n",
       "    <tr>\n",
       "      <th>1981-05-06</th>\n",
       "      <td>120.70</td>\n",
       "      <td>120.70</td>\n",
       "      <td>120.70</td>\n",
       "      <td>120.70</td>\n",
       "      <td>1690000.0</td>\n",
       "      <td>0.0008</td>\n",
       "    </tr>\n",
       "    <tr>\n",
       "      <th>1981-05-07</th>\n",
       "      <td>119.30</td>\n",
       "      <td>119.30</td>\n",
       "      <td>119.30</td>\n",
       "      <td>119.30</td>\n",
       "      <td>1480000.0</td>\n",
       "      <td>-0.0116</td>\n",
       "    </tr>\n",
       "    <tr>\n",
       "      <th>...</th>\n",
       "      <td>...</td>\n",
       "      <td>...</td>\n",
       "      <td>...</td>\n",
       "      <td>...</td>\n",
       "      <td>...</td>\n",
       "      <td>...</td>\n",
       "    </tr>\n",
       "    <tr>\n",
       "      <th>2022-02-25</th>\n",
       "      <td>2676.76</td>\n",
       "      <td>2678.47</td>\n",
       "      <td>2694.81</td>\n",
       "      <td>2665.96</td>\n",
       "      <td>664350000.0</td>\n",
       "      <td>0.0106</td>\n",
       "    </tr>\n",
       "    <tr>\n",
       "      <th>2022-02-28</th>\n",
       "      <td>2699.18</td>\n",
       "      <td>2663.00</td>\n",
       "      <td>2699.18</td>\n",
       "      <td>2658.25</td>\n",
       "      <td>613470000.0</td>\n",
       "      <td>0.0084</td>\n",
       "    </tr>\n",
       "    <tr>\n",
       "      <th>2022-03-02</th>\n",
       "      <td>2703.52</td>\n",
       "      <td>2698.31</td>\n",
       "      <td>2716.46</td>\n",
       "      <td>2692.24</td>\n",
       "      <td>527950000.0</td>\n",
       "      <td>0.0016</td>\n",
       "    </tr>\n",
       "    <tr>\n",
       "      <th>2022-03-03</th>\n",
       "      <td>2747.08</td>\n",
       "      <td>2729.86</td>\n",
       "      <td>2748.21</td>\n",
       "      <td>2726.35</td>\n",
       "      <td>614510000.0</td>\n",
       "      <td>0.0161</td>\n",
       "    </tr>\n",
       "    <tr>\n",
       "      <th>2022-03-04</th>\n",
       "      <td>2713.43</td>\n",
       "      <td>2736.58</td>\n",
       "      <td>2736.58</td>\n",
       "      <td>2702.34</td>\n",
       "      <td>765680000.0</td>\n",
       "      <td>-0.0122</td>\n",
       "    </tr>\n",
       "  </tbody>\n",
       "</table>\n",
       "<p>10901 rows × 6 columns</p>\n",
       "</div>"
      ],
      "text/plain": [
       "              Close     Open     High      Low       Volume  Change\n",
       "Date                                                               \n",
       "1981-05-01   123.60   123.60   123.60   123.60    3330000.0  0.0098\n",
       "1981-05-02   123.50   123.50   123.50   123.50    2040000.0 -0.0008\n",
       "1981-05-04   120.60   120.60   120.60   120.60    1930000.0 -0.0235\n",
       "1981-05-06   120.70   120.70   120.70   120.70    1690000.0  0.0008\n",
       "1981-05-07   119.30   119.30   119.30   119.30    1480000.0 -0.0116\n",
       "...             ...      ...      ...      ...          ...     ...\n",
       "2022-02-25  2676.76  2678.47  2694.81  2665.96  664350000.0  0.0106\n",
       "2022-02-28  2699.18  2663.00  2699.18  2658.25  613470000.0  0.0084\n",
       "2022-03-02  2703.52  2698.31  2716.46  2692.24  527950000.0  0.0016\n",
       "2022-03-03  2747.08  2729.86  2748.21  2726.35  614510000.0  0.0161\n",
       "2022-03-04  2713.43  2736.58  2736.58  2702.34  765680000.0 -0.0122\n",
       "\n",
       "[10901 rows x 6 columns]"
      ]
     },
     "execution_count": 12,
     "metadata": {},
     "output_type": "execute_result"
    }
   ],
   "source": [
    "kospi = fdr.DataReader('KS11')\n",
    "kospi"
   ]
  },
  {
   "cell_type": "code",
   "execution_count": 13,
   "metadata": {},
   "outputs": [
    {
     "data": {
      "text/plain": [
       "<AxesSubplot:xlabel='Date'>"
      ]
     },
     "execution_count": 13,
     "metadata": {},
     "output_type": "execute_result"
    },
    {
     "data": {
      "image/png": "[encoded data removed]",
      "text/plain": [
       "<Figure size 432x288 with 1 Axes>"
      ]
     },
     "metadata": {
      "needs_background": "light"
     },
     "output_type": "display_data"
    }
   ],
   "source": [
    "kospi_close = kospi['Close'] \n",
    "d_start = '2022-01-01' \n",
    "d_end = '2022-03-5'\n",
    "kospi_close[d_start:d_end].plot()"
   ]
  },
  {
   "cell_type": "code",
   "execution_count": 14,
   "metadata": {},
   "outputs": [],
   "source": [
    "count = 0\n",
    "compare_base_r = kospi_close[d_start:d_end]\n",
    "\n",
    "compare_base = compare_base_r.values\n",
    "# 정규화\n",
    "compare_base_norm = (compare_base - compare_base.mean()) / compare_base.std()\n",
    "compare_base_norm = list(compare_base_norm)\n",
    "\n",
    "window_size = len(compare_base_norm)\n",
    "next_date = 5\n",
    "\n",
    "moving_cnt = len(kospi_close) - (window_size-1) - next_date\n",
    "sim_dict = {}\n",
    "\n",
    "for i in range(moving_cnt):\n",
    "    compare_target_r = kospi_close[i:i+window_size]\n",
    "\n",
    "    compare_target = compare_target_r.values\n",
    "\n",
    "    compare_target_norm = (compare_target - compare_target.mean()) / compare_target.std()\n",
    "\n",
    "    compare_target_norm = list(compare_target_norm)\n",
    "\n",
    "    sim = cosine(compare_base_norm, compare_target_norm)\n",
    "    \n",
    "    sim_dict[sim] = [i, compare_target_r]"
   ]
  },
  {
   "cell_type": "code",
   "execution_count": 15,
   "metadata": {},
   "outputs": [
    {
     "data": {
      "text/plain": [
       "[4847,\n",
       " Date\n",
       " 1997-11-11    522.11\n",
       " 1997-11-12    517.49\n",
       " 1997-11-13    519.47\n",
       " 1997-11-14    520.01\n",
       " 1997-11-15    519.37\n",
       " 1997-11-17    496.98\n",
       " 1997-11-18    494.66\n",
       " 1997-11-19    502.59\n",
       " 1997-11-20    488.41\n",
       " 1997-11-21    506.07\n",
       " 1997-11-22    485.43\n",
       " 1997-11-24    450.64\n",
       " 1997-11-25    439.59\n",
       " 1997-11-26    438.70\n",
       " 1997-11-27    433.10\n",
       " 1997-11-28    411.91\n",
       " 1997-11-29    407.86\n",
       " 1997-12-01    393.16\n",
       " 1997-12-02    376.87\n",
       " 1997-12-03    379.31\n",
       " 1997-12-04    405.81\n",
       " 1997-12-05    434.12\n",
       " 1997-12-06    435.73\n",
       " 1997-12-08    414.83\n",
       " 1997-12-09    388.00\n",
       " 1997-12-10    399.85\n",
       " 1997-12-11    377.37\n",
       " 1997-12-12    350.68\n",
       " 1997-12-13    359.82\n",
       " 1997-12-15    385.80\n",
       " 1997-12-16    404.26\n",
       " 1997-12-17    418.49\n",
       " 1997-12-19    397.02\n",
       " 1997-12-20    400.19\n",
       " 1997-12-22    396.06\n",
       " 1997-12-23    366.36\n",
       " 1997-12-24    351.45\n",
       " 1997-12-26    375.15\n",
       " 1997-12-27    376.31\n",
       " 1998-01-03    385.49\n",
       " 1998-01-05    396.49\n",
       " Name: Close, dtype: float64]"
      ]
     },
     "execution_count": 15,
     "metadata": {},
     "output_type": "execute_result"
    }
   ],
   "source": [
    "# 최소 코사인 유사도\n",
    "min_sim = min(list(sim_dict.keys())) \n",
    "# 최소 코사인 유사도가 나온 인덱스, 기간 추출 \n",
    "sim_dict[min_sim]\n"
   ]
  },
  {
   "cell_type": "code",
   "execution_count": 16,
   "metadata": {},
   "outputs": [
    {
     "data": {
      "text/plain": [
       "[1.8403261103927213,\n",
       " 1.8447412085842885,\n",
       " 1.5134209676978096,\n",
       " 1.1992914282806355,\n",
       " 1.5220632875621585,\n",
       " 1.2574392108461918,\n",
       " 1.2636391359662706,\n",
       " 1.6873006858381214,\n",
       " 1.5896988343266252,\n",
       " 1.2123488463365517,\n",
       " 0.9134373049413768,\n",
       " 0.6705129661456752,\n",
       " 0.46422454851406353,\n",
       " 0.6558585976800418,\n",
       " 0.38916787925738516,\n",
       " -0.008097019724446174,\n",
       " -0.6807888952526802,\n",
       " -0.7855300544782053,\n",
       " -1.6755950622466742,\n",
       " -1.2167066651016607,\n",
       " -0.7988692873123044,\n",
       " -0.40019531443954587,\n",
       " -0.44904320932499475,\n",
       " -0.43579791475028856,\n",
       " -0.22556409022407822,\n",
       " -0.19663110633039146,\n",
       " -0.4241495705852953,\n",
       " -0.8302446659502655,\n",
       " -1.092708162700145,\n",
       " -0.5935202522746428,\n",
       " -0.4581552204863165,\n",
       " -0.4541158753323292,\n",
       " -0.4608794300087738,\n",
       " -0.8085449280300004,\n",
       " -0.6888675855606547,\n",
       " -1.3532928942621198,\n",
       " -1.0906415209934506,\n",
       " -0.8800319434296644,\n",
       " -0.8392627388521944,\n",
       " -0.43006768092718695,\n",
       " -0.7461699237916625]"
      ]
     },
     "execution_count": 16,
     "metadata": {},
     "output_type": "execute_result"
    }
   ],
   "source": [
    "compare_base_norm"
   ]
  },
  {
   "cell_type": "code",
   "execution_count": 17,
   "metadata": {},
   "outputs": [
    {
     "data": {
      "text/plain": [
       "[1.5319367898769305,\n",
       " 1.4246315173645365,\n",
       " 1.5970031080696179,\n",
       " 1.3724784889540065,\n",
       " 1.2421792294746685,\n",
       " 1.3348216697182897,\n",
       " 1.3387373124264268,\n",
       " 1.0448974862220606,\n",
       " 0.7663036731153443,\n",
       " 1.0525621485443752,\n",
       " 0.8178735206969975,\n",
       " 0.8233720827977906,\n",
       " 1.1991071596851421,\n",
       " 1.1125464623711834,\n",
       " 0.777883978145796,\n",
       " 0.5127866356501062,\n",
       " 0.2973429751554947,\n",
       " 0.11439081798374086,\n",
       " 0.2843463738263539,\n",
       " 0.04782489194538092,\n",
       " -0.3044996402401205,\n",
       " -0.9010936281758931,\n",
       " -0.9939860030604609,\n",
       " -1.7833629107118274,\n",
       " -1.3763860037063442,\n",
       " -1.0058162427318555,\n",
       " -0.6522420373416283,\n",
       " -0.6955640417721013,\n",
       " -0.6838171136476864,\n",
       " -0.49736587150269784,\n",
       " -0.4717059150323427,\n",
       " -0.6734864818219568,\n",
       " -1.033642299423736,\n",
       " -1.2664147616905352,\n",
       " -0.8236972010299177,\n",
       " -0.7036452618293221,\n",
       " -0.7000628653091114,\n",
       " -0.7060612966917903,\n",
       " -1.0143973320709696,\n",
       " -0.9082584212163144,\n",
       " -1.4975209930176987]"
      ]
     },
     "execution_count": 17,
     "metadata": {},
     "output_type": "execute_result"
    }
   ],
   "source": [
    "# 검색 구간 데이터 -> 값만 추출 \n",
    "compare_target = compare_target_r.values\n",
    "# 검색 구간 데이터 표준화\n",
    "compare_target_norm = (compare_target - compare_target.mean())/compare_target.std()\n",
    "compare_target_norm = list(compare_target_norm)\n",
    "# 표준화된 검색 구간 데이터\n",
    "compare_target_norm\n"
   ]
  },
  {
   "cell_type": "code",
   "execution_count": 18,
   "metadata": {},
   "outputs": [
    {
     "data": {
      "image/png": "[encoded data removed]",
      "text/plain": [
       "<Figure size 432x288 with 1 Axes>"
      ]
     },
     "metadata": {
      "needs_background": "light"
     },
     "output_type": "display_data"
    }
   ],
   "source": [
    "plt.plot(compare_base_norm, label='base')\n",
    "plt.plot(compare_target_norm, label='target')\n",
    "plt.legend()\n",
    "plt.show()\n"
   ]
  },
  {
   "cell_type": "code",
   "execution_count": 19,
   "metadata": {},
   "outputs": [
    {
     "data": {
      "image/png": "[encoded data removed]",
      "text/plain": [
       "<Figure size 864x288 with 1 Axes>"
      ]
     },
     "metadata": {
      "needs_background": "light"
     },
     "output_type": "display_data"
    }
   ],
   "source": [
    "# 반복문 인덱스 복원\n",
    "idx = sim_dict[min_sim][0]\n",
    "# 반복문 타겟 구간 시계열 데이터 복원\n",
    "compare_target_r = sim_dict[min_sim][1]\n",
    "plt.figure(figsize=(12,4))\n",
    "expanded_target_r = kospi_close[idx:idx+window_size+next_date]\n",
    "expanded_target_r.plot()\n",
    "plt.axvspan(compare_target_r.index[-1], expanded_target_r.index[-1], facecolor='gray', alpha=0.5)\n",
    "plt.axvline(x=compare_target_r.index[-1], c='r', linestyle='--')\n",
    "plt.xticks(rotation=90)\n",
    "plt.show()\n"
   ]
  }
 ],
 "metadata": {
  "interpreter": {
   "hash": "31f2aee4e71d21fbe5cf8b01ff0e069b9275f58929596ceb00d14d90e3e16cd6"
  },
  "kernelspec": {
   "display_name": "Python 3.8.10 64-bit",
   "language": "python",
   "name": "python3"
  },
  "language_info": {
   "codemirror_mode": {
    "name": "ipython",
    "version": 3
   },
   "file_extension": ".py",
   "mimetype": "text/x-python",
   "name": "python",
   "nbconvert_exporter": "python",
   "pygments_lexer": "ipython3",
   "version": "3.8.10"
  },
  "orig_nbformat": 4
 },
 "nbformat": 4,
 "nbformat_minor": 2
}
